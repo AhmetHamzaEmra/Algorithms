{
 "cells": [
  {
   "cell_type": "markdown",
   "metadata": {
    "nbpresent": {
     "id": "2f26ea5a-4f7f-4bd0-9c31-7f5ea7e56118"
    },
    "slideshow": {
     "slide_type": "slide"
    }
   },
   "source": [
    "# Making presentation with ipython"
   ]
  },
  {
   "cell_type": "markdown",
   "metadata": {
    "nbpresent": {
     "id": "b6c128bb-c40e-40d4-9053-8f88842ee97d"
    },
    "slideshow": {
     "slide_type": "subslide"
    }
   },
   "source": [
    "Creatrer: Ahmet Hamza Emra"
   ]
  },
  {
   "cell_type": "markdown",
   "metadata": {
    "nbpresent": {
     "id": "caab5e1f-760c-484d-9a7c-b82fe61df5c0"
    },
    "slideshow": {
     "slide_type": "slide"
    }
   },
   "source": [
    "# adding slides"
   ]
  },
  {
   "cell_type": "code",
   "execution_count": 1,
   "metadata": {
    "collapsed": false,
    "nbpresent": {
     "id": "351f8430-3118-4d33-bbaf-cda19e35a7ac"
    },
    "slideshow": {
     "slide_type": "subslide"
    }
   },
   "outputs": [
    {
     "name": "stdout",
     "output_type": "stream",
     "text": [
      "0 1 4 9 16 25 36 49 64 81 100 121 144 169 196 225 256 289 324 361 400 441 484 529 576 625 676 729 784 841 "
     ]
    }
   ],
   "source": [
    "x=2\n",
    "for i in range(30):\n",
    "    print(i**x, end=\" \")\n",
    "    "
   ]
  },
  {
   "cell_type": "markdown",
   "metadata": {
    "nbpresent": {
     "id": "900a1252-bdeb-4b67-a626-9143bae1d35b"
    },
    "slideshow": {
     "slide_type": "fragment"
    }
   },
   "source": [
    "adsdasdasd"
   ]
  },
  {
   "cell_type": "code",
   "execution_count": null,
   "metadata": {
    "collapsed": true,
    "nbpresent": {
     "id": "c1a2fde6-8afe-4c95-85b7-51c5b270490d"
    }
   },
   "outputs": [],
   "source": []
  },
  {
   "cell_type": "code",
   "execution_count": null,
   "metadata": {
    "collapsed": true,
    "nbpresent": {
     "id": "568db606-69e7-4ec4-a6f8-e58db6396215"
    }
   },
   "outputs": [],
   "source": []
  }
 ],
 "metadata": {
  "anaconda-cloud": {},
  "celltoolbar": "Slideshow",
  "kernelspec": {
   "display_name": "Python [conda root]",
   "language": "python",
   "name": "conda-root-py"
  },
  "language_info": {
   "codemirror_mode": {
    "name": "ipython",
    "version": 3
   },
   "file_extension": ".py",
   "mimetype": "text/x-python",
   "name": "python",
   "nbconvert_exporter": "python",
   "pygments_lexer": "ipython3",
   "version": "3.5.2"
  }
 },
 "nbformat": 4,
 "nbformat_minor": 0
}
